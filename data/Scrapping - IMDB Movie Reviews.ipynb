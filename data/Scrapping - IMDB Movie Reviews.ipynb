{
 "cells": [
  {
   "cell_type": "code",
   "execution_count": 112,
   "metadata": {},
   "outputs": [],
   "source": [
    "import requests\n",
    "from bs4 import BeautifulSoup\n",
    "import re\n",
    "import pandas as pd\n",
    "import numpy as np\n",
    "import itertools\n",
    "from imdbUtils import *\n",
    "import builtins\n",
    "\n",
    "pd.options.display.max_colwidth=500"
   ]
  },
  {
   "cell_type": "code",
   "execution_count": 113,
   "metadata": {},
   "outputs": [],
   "source": [
    "# API call to select:\n",
    "## feature films\n",
    "## which are rated atleast 4.0\n",
    "## having atleast 50,000 votes\n",
    "## in the Thriller genre\n",
    "## sorted by user rating\n",
    "## limit to 250 movies\n",
    "url = '''https://www.imdb.com/search/title/?title_type=feature&user_rating=4.0,10.0\n",
    "&num_votes=50000,&genres=thriller&view=simple&sort=user_rating,desc&count=250'''\n",
    "\n",
    "# get the soup object for main api url\n",
    "movies_soup = getSoup(url)"
   ]
  },
  {
   "cell_type": "code",
   "execution_count": 114,
   "metadata": {},
   "outputs": [],
   "source": [
    "# find all a-tags with class:None\n",
    "movie_tags = movies_soup.find_all('a', attrs={'class': None})\n",
    "\n",
    "# filter the a-tags to get just the titles\n",
    "movie_tags = [tag.attrs['href'] for tag in movie_tags \n",
    "              if tag.attrs['href'].startswith('/title') & tag.attrs['href'].endswith('/')]"
   ]
  },
  {
   "cell_type": "code",
   "execution_count": 115,
   "metadata": {},
   "outputs": [
    {
     "name": "stdout",
     "output_type": "stream",
     "text": [
      "There are a total of 500 movie titles\n",
      "Displaying 10 titles\n"
     ]
    },
    {
     "data": {
      "text/plain": [
       "['/title/tt0468569/',\n",
       " '/title/tt0468569/',\n",
       " '/title/tt1375666/',\n",
       " '/title/tt1375666/',\n",
       " '/title/tt6751668/',\n",
       " '/title/tt6751668/',\n",
       " '/title/tt0114369/',\n",
       " '/title/tt0114369/',\n",
       " '/title/tt0102926/',\n",
       " '/title/tt0102926/']"
      ]
     },
     "execution_count": 115,
     "metadata": {},
     "output_type": "execute_result"
    }
   ],
   "source": [
    "print(\"There are a total of \" + str(len(movie_tags)) + \" movie titles\")\n",
    "print(\"Displaying 10 titles\")\n",
    "movie_tags[:10]"
   ]
  },
  {
   "cell_type": "code",
   "execution_count": 116,
   "metadata": {},
   "outputs": [
    {
     "name": "stdout",
     "output_type": "stream",
     "text": [
      "There are a total of 250 movie titles\n",
      "Displaying 10 titles\n"
     ]
    },
    {
     "data": {
      "text/plain": [
       "['/title/tt0468569/',\n",
       " '/title/tt1375666/',\n",
       " '/title/tt6751668/',\n",
       " '/title/tt0114369/',\n",
       " '/title/tt0102926/',\n",
       " '/title/tt0482571/',\n",
       " '/title/tt0407887/',\n",
       " '/title/tt0114814/',\n",
       " '/title/tt0110413/',\n",
       " '/title/tt0054215/']"
      ]
     },
     "execution_count": 116,
     "metadata": {},
     "output_type": "execute_result"
    }
   ],
   "source": [
    "# remove duplicate links\n",
    "movie_tags = list(dict.fromkeys(movie_tags))\n",
    "\n",
    "print(\"There are a total of \" + str(len(movie_tags)) + \" movie titles\")\n",
    "print(\"Displaying 10 titles\")\n",
    "movie_tags[:10]"
   ]
  },
  {
   "cell_type": "code",
   "execution_count": 117,
   "metadata": {},
   "outputs": [
    {
     "name": "stdout",
     "output_type": "stream",
     "text": [
      "There are a total of 250 movie user reviews\n",
      "Displaying 10 user reviews links\n"
     ]
    },
    {
     "data": {
      "text/plain": [
       "['https://www.imdb.com/title/tt0468569/reviews',\n",
       " 'https://www.imdb.com/title/tt1375666/reviews',\n",
       " 'https://www.imdb.com/title/tt6751668/reviews',\n",
       " 'https://www.imdb.com/title/tt0114369/reviews',\n",
       " 'https://www.imdb.com/title/tt0102926/reviews',\n",
       " 'https://www.imdb.com/title/tt0482571/reviews',\n",
       " 'https://www.imdb.com/title/tt0407887/reviews',\n",
       " 'https://www.imdb.com/title/tt0114814/reviews',\n",
       " 'https://www.imdb.com/title/tt0110413/reviews',\n",
       " 'https://www.imdb.com/title/tt0054215/reviews']"
      ]
     },
     "execution_count": 117,
     "metadata": {},
     "output_type": "execute_result"
    }
   ],
   "source": [
    "# movie links\n",
    "base_url = \"https://www.imdb.com\"\n",
    "movie_links = [base_url + tag + 'reviews' for tag in movie_tags]\n",
    "print(\"There are a total of \" + str(len(movie_links)) + \" movie user reviews\")\n",
    "print(\"Displaying 10 user reviews links\")\n",
    "movie_links[:10]"
   ]
  },
  {
   "cell_type": "code",
   "execution_count": 118,
   "metadata": {},
   "outputs": [
    {
     "name": "stdout",
     "output_type": "stream",
     "text": [
      "500\n",
      "There are a total of 500 individual movie reviews\n",
      "Displaying 10 reviews\n"
     ]
    },
    {
     "data": {
      "text/plain": [
       "['https://www.imdb.com/review/rw6513945/',\n",
       " 'https://www.imdb.com/review/rw6457886/',\n",
       " 'https://www.imdb.com/review/rw2285156/',\n",
       " 'https://www.imdb.com/review/rw4692192/',\n",
       " 'https://www.imdb.com/review/rw5512155/',\n",
       " 'https://www.imdb.com/review/rw5195256/',\n",
       " 'https://www.imdb.com/review/rw0960802/',\n",
       " 'https://www.imdb.com/review/rw0370669/',\n",
       " 'https://www.imdb.com/review/rw3476006/',\n",
       " 'https://www.imdb.com/review/rw1198894/']"
      ]
     },
     "execution_count": 118,
     "metadata": {},
     "output_type": "execute_result"
    }
   ],
   "source": [
    "# get a list of soup objects\n",
    "movie_soups = [getSoup(link) for link in movie_links]\n",
    "\n",
    "# get all 500 movie review links\n",
    "movie_review_list = [getReviews(movie_soup) for movie_soup in movie_soups]\n",
    "\n",
    "movie_review_list = list(itertools.chain(*movie_review_list))\n",
    "print(len(movie_review_list))\n",
    "\n",
    "print(\"There are a total of \" + str(len(movie_review_list)) + \" individual movie reviews\")\n",
    "print(\"Displaying 10 reviews\")\n",
    "movie_review_list[:10]"
   ]
  },
  {
   "cell_type": "code",
   "execution_count": 108,
   "metadata": {},
   "outputs": [
    {
     "name": "stdout",
     "output_type": "stream",
     "text": [
      "19000\n",
      "There are a total of 19000 individual movie reviews\n",
      "Displaying 10 reviews\n"
     ]
    },
    {
     "data": {
      "text/plain": [
       "['h', 't', 't', 'p', 's', ':', '/', '/', 'w', 'w']"
      ]
     },
     "execution_count": 108,
     "metadata": {},
     "output_type": "execute_result"
    }
   ],
   "source": [
    "movie_review_list = list(itertools.chain(*movie_review_list))\n",
    "print(len(movie_review_list))\n",
    "\n",
    "print(\"There are a total of \" + str(len(movie_review_list)) + \" individual movie reviews\")\n",
    "print(\"Displaying 10 reviews\")\n",
    "movie_review_list[:10]"
   ]
  },
  {
   "cell_type": "code",
   "execution_count": 120,
   "metadata": {},
   "outputs": [
    {
     "name": "stdout",
     "output_type": "stream",
     "text": [
      "500\n"
     ]
    }
   ],
   "source": [
    "print(str(len(movie_review_list)))"
   ]
  },
  {
   "cell_type": "code",
   "execution_count": 121,
   "metadata": {},
   "outputs": [],
   "source": [
    "# get review text from the review link\n",
    "review_texts = [getReviewText(url) for url in movie_review_list]\n",
    "\n",
    "# get movie name from the review link\n",
    "movie_titles = [getMovieTitle(url) for url in movie_review_list]\n",
    "\n",
    "# label each review with negative or positive\n",
    "review_sentiment = np.array(['negative', 'positive'] * (len(movie_review_list)//2))\n",
    "\n",
    "# construct a dataframe\n",
    "df = pd.DataFrame({'movie': movie_titles, 'user_review': review_texts, 'sentiment': review_sentiment})"
   ]
  },
  {
   "cell_type": "code",
   "execution_count": 122,
   "metadata": {},
   "outputs": [
    {
     "data": {
      "text/html": [
       "<div>\n",
       "<style scoped>\n",
       "    .dataframe tbody tr th:only-of-type {\n",
       "        vertical-align: middle;\n",
       "    }\n",
       "\n",
       "    .dataframe tbody tr th {\n",
       "        vertical-align: top;\n",
       "    }\n",
       "\n",
       "    .dataframe thead th {\n",
       "        text-align: right;\n",
       "    }\n",
       "</style>\n",
       "<table border=\"1\" class=\"dataframe\">\n",
       "  <thead>\n",
       "    <tr style=\"text-align: right;\">\n",
       "      <th></th>\n",
       "      <th>movie</th>\n",
       "      <th>user_review</th>\n",
       "      <th>sentiment</th>\n",
       "    </tr>\n",
       "  </thead>\n",
       "  <tbody>\n",
       "    <tr>\n",
       "      <th>0</th>\n",
       "      <td>The Dark Knight</td>\n",
       "      <td>If someone else acted as Joker, I would give the movie 7-8 stars. The majority of people ended up loving the villain more than the hero, and that rarely happends in movies.Rest in peace Heath Ledger.</td>\n",
       "      <td>negative</td>\n",
       "    </tr>\n",
       "    <tr>\n",
       "      <th>1</th>\n",
       "      <td>The Dark Knight</td>\n",
       "      <td>Totally one of the greatest movie titles ever made. Everything was great, filming, acting, story. Nothing to complain about</td>\n",
       "      <td>positive</td>\n",
       "    </tr>\n",
       "    <tr>\n",
       "      <th>2</th>\n",
       "      <td>Inception</td>\n",
       "      <td>The central idea of \"Inception\" is an interesting one: technology exists to enter other people's dreams in order to steal their most private secrets or to implant new ideas. With Christopher Nolan of \"Memento\" fame as writer and director, this should have been a smart, compelling movie. Unfortunately, \"Inception\" is a bloated failure.The root problem is that Nolan replaces the fascinating surrealism of dream worlds with lengthy outtakes from James Bond movies. For example, early in the film,...</td>\n",
       "      <td>negative</td>\n",
       "    </tr>\n",
       "    <tr>\n",
       "      <th>3</th>\n",
       "      <td>Inception</td>\n",
       "      <td>My 3rd time watching this movie! Yet, it still stunned my mind, kept me enjoyed its every moment and left me with many thoughts afterward.For someone like me, who've rarely slept without dream, it's so exciting watching how Christopher Nolan had illustrated every single characteristic of dream on the big screen. As it's been done so sophisticatedly, I do believe the rumour that Nolan had spent 10 years to finish the script of Inception. In my opinion, it's been so far the greatest achievemen...</td>\n",
       "      <td>positive</td>\n",
       "    </tr>\n",
       "    <tr>\n",
       "      <th>4</th>\n",
       "      <td>Parasite</td>\n",
       "      <td>There are a few suspenseful scenes and a decent plot, along with comedic dialogue, but that's it. It's not a \"metaphorical masterpiece\" that some critics and users are saying. I feel as though too many people are trying to be expert critics like on that episode of South Park where the entire town writes crazy yelp reviews for all the restaurants.</td>\n",
       "      <td>negative</td>\n",
       "    </tr>\n",
       "  </tbody>\n",
       "</table>\n",
       "</div>"
      ],
      "text/plain": [
       "             movie  \\\n",
       "0  The Dark Knight   \n",
       "1  The Dark Knight   \n",
       "2        Inception   \n",
       "3        Inception   \n",
       "4         Parasite   \n",
       "\n",
       "                                                                                                                                                                                                                                                                                                                                                                                                                                                                                                           user_review  \\\n",
       "0                                                                                                                                                                                                                                                                                                              If someone else acted as Joker, I would give the movie 7-8 stars. The majority of people ended up loving the villain more than the hero, and that rarely happends in movies.Rest in peace Heath Ledger.   \n",
       "1                                                                                                                                                                                                                                                                                                                                                                                          Totally one of the greatest movie titles ever made. Everything was great, filming, acting, story. Nothing to complain about   \n",
       "2  The central idea of \"Inception\" is an interesting one: technology exists to enter other people's dreams in order to steal their most private secrets or to implant new ideas. With Christopher Nolan of \"Memento\" fame as writer and director, this should have been a smart, compelling movie. Unfortunately, \"Inception\" is a bloated failure.The root problem is that Nolan replaces the fascinating surrealism of dream worlds with lengthy outtakes from James Bond movies. For example, early in the film,...   \n",
       "3  My 3rd time watching this movie! Yet, it still stunned my mind, kept me enjoyed its every moment and left me with many thoughts afterward.For someone like me, who've rarely slept without dream, it's so exciting watching how Christopher Nolan had illustrated every single characteristic of dream on the big screen. As it's been done so sophisticatedly, I do believe the rumour that Nolan had spent 10 years to finish the script of Inception. In my opinion, it's been so far the greatest achievemen...   \n",
       "4                                                                                                                                                         There are a few suspenseful scenes and a decent plot, along with comedic dialogue, but that's it. It's not a \"metaphorical masterpiece\" that some critics and users are saying. I feel as though too many people are trying to be expert critics like on that episode of South Park where the entire town writes crazy yelp reviews for all the restaurants.   \n",
       "\n",
       "  sentiment  \n",
       "0  negative  \n",
       "1  positive  \n",
       "2  negative  \n",
       "3  positive  \n",
       "4  negative  "
      ]
     },
     "execution_count": 122,
     "metadata": {},
     "output_type": "execute_result"
    }
   ],
   "source": [
    "df.head()"
   ]
  },
  {
   "cell_type": "code",
   "execution_count": 124,
   "metadata": {},
   "outputs": [],
   "source": [
    "# save the dataframe to a csv file.\n",
    "df.to_csv('movieReviews_IMDB.csv', index=False)"
   ]
  }
 ],
 "metadata": {
  "kernelspec": {
   "display_name": "Python 3",
   "language": "python",
   "name": "python3"
  },
  "language_info": {
   "codemirror_mode": {
    "name": "ipython",
    "version": 3
   },
   "file_extension": ".py",
   "mimetype": "text/x-python",
   "name": "python",
   "nbconvert_exporter": "python",
   "pygments_lexer": "ipython3",
   "version": "3.7.3"
  }
 },
 "nbformat": 4,
 "nbformat_minor": 2
}
