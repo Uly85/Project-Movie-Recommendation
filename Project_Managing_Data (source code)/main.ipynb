{
 "cells": [
  {
   "cell_type": "code",
   "execution_count": 1,
   "metadata": {},
   "outputs": [],
   "source": [
    "#!pip3 install pymongo\n",
    "import csv \n",
    "import json, requests\n",
    "import pandas as pd\n",
    "import time\n",
    "import numpy as np\n",
    "import psycopg2, os\n",
    "from flask import Flask, request, render_template"
   ]
  },
  {
   "cell_type": "code",
   "execution_count": 2,
   "metadata": {},
   "outputs": [
    {
     "name": "stdout",
     "output_type": "stream",
     "text": [
      "932\n"
     ]
    }
   ],
   "source": [
    "from pymongo import MongoClient\n",
    "client = MongoClient('localhost',27017) ## or MongoClient(\"localhost:27\")\n",
    "db = client.apan5400\n",
    "col = db.movie_reviews\n",
    "print(col.count_documents({}))"
   ]
  },
  {
   "cell_type": "code",
   "execution_count": 3,
   "metadata": {},
   "outputs": [],
   "source": [
    "#for recommendation\n",
    "import difflib\n",
    "import pandas as pd\n",
    "from sklearn.feature_extraction.text import CountVectorizer\n",
    "from sklearn.metrics.pairwise import cosine_similarity"
   ]
  },
  {
   "cell_type": "markdown",
   "metadata": {},
   "source": [
    "## Get movies from database"
   ]
  },
  {
   "cell_type": "code",
   "execution_count": 4,
   "metadata": {},
   "outputs": [],
   "source": [
    "#USING DATABASE\n",
    "tmdb = db.tmdb\n",
    "#print(tmdb.count_documents({}))\n",
    "df2 = pd.DataFrame(list(tmdb.find()))\n",
    "\n",
    "#USING CSV\n",
    "#df2 = pd.read_csv('tmdb_dt.csv')\n",
    "movie_title = df2.title\n",
    "df2 = df2.drop_duplicates(subset = [\"title\"])"
   ]
  },
  {
   "cell_type": "code",
   "execution_count": 5,
   "metadata": {},
   "outputs": [
    {
     "name": "stdout",
     "output_type": "stream",
     "text": [
      "                          _id                                     genres  \\\n",
      "0    610b1ca2711735c4ba85c71c         ['action', 'adventure', 'fantasy']   \n",
      "1    610b1ca2711735c4ba85c71d           ['action', 'adventure', 'crime']   \n",
      "2    610b1ca2711735c4ba85c71e  ['action', 'adventure', 'sciencefiction']   \n",
      "3    610b1ca2711735c4ba85c71f                    ['animation', 'family']   \n",
      "4    610b1ca2711735c4ba85c720         ['adventure', 'fantasy', 'family']   \n",
      "..                        ...                                        ...   \n",
      "244  610b1ca2711735c4ba85c810        ['action', 'sciencefiction', 'war']   \n",
      "245  610b1ca2711735c4ba85c811              ['drama', 'music', 'romance']   \n",
      "246  610b1ca2711735c4ba85c812                     ['drama', 'adventure']   \n",
      "247  610b1ca2711735c4ba85c813         ['fantasy', 'action', 'adventure']   \n",
      "248  610b1ca2711735c4ba85c814      ['adventure', 'fantasy', 'animation']   \n",
      "\n",
      "         id                                           keywords  \\\n",
      "0     19995             ['cultureclash', 'future', 'spacewar']   \n",
      "1    206647             ['spy', 'basedonnovel', 'secretagent']   \n",
      "2     49529              ['basedonnovel', 'mars', 'medallion']   \n",
      "3     38757                      ['hostage', 'magic', 'horse']   \n",
      "4       767                        ['witch', 'magic', 'broom']   \n",
      "..      ...                                                ...   \n",
      "244    5491   ['basedonnovel', 'post-apocalyptic', 'dystopia']   \n",
      "245   10197              ['memory', 'sidewalkcafe', 'roomkey']   \n",
      "246    9922                         ['usa', 'post', 'postman']   \n",
      "247  274854                   ['newyork', 'witch', 'uprising']   \n",
      "248    9992  ['grandfathergrandsonrelationship', 'wretch', ...   \n",
      "\n",
      "    original_language                   original_title  \\\n",
      "0                  en                  The Dark Knight   \n",
      "1                  en                        Inception   \n",
      "2                  en                         Parasite   \n",
      "3                  en                            Se7en   \n",
      "4                  en         The Silence of the Lambs   \n",
      "..                ...                              ...   \n",
      "244                en                         Who Am I   \n",
      "245                en                   Predestination   \n",
      "246                en  The Hunger Games: Catching Fire   \n",
      "247                en          Jo Nesb√∏'s Headhunters   \n",
      "248                en                    The Conjuring   \n",
      "\n",
      "                                              overview    status  \\\n",
      "0    In the 22nd century, a paraplegic Marine is di...  Released   \n",
      "1    A cryptic message from Bond‚Äôs past sends him...  Released   \n",
      "2    John Carter is a war-weary, former military ca...  Released   \n",
      "3    When the kingdom's most wanted-and most charmi...  Released   \n",
      "4    As Harry begins his sixth year at Hogwarts, he...  Released   \n",
      "..                                                 ...       ...   \n",
      "244  In the year 3000, man is no match for the Psyc...  Released   \n",
      "245  Arrogant, self-centered movie director Guido C...  Released   \n",
      "246  In 2013 there are no highways, no I-ways, no d...  Released   \n",
      "247  The modern world holds many secrets, but by fa...  Released   \n",
      "248  Arthur is a spirited ten-year old whose parent...  Released   \n",
      "\n",
      "                               title  \\\n",
      "0                    The Dark Knight   \n",
      "1                          Inception   \n",
      "2                           Parasite   \n",
      "3                              Se7en   \n",
      "4           The Silence of the Lambs   \n",
      "..                               ...   \n",
      "244                         Who Am I   \n",
      "245                   Predestination   \n",
      "246  The Hunger Games: Catching Fire   \n",
      "247          Jo Nesb√∏'s Headhunters   \n",
      "248                    The Conjuring   \n",
      "\n",
      "                                           user_review  \\\n",
      "0    If someone else acted as Joker, I would give t...   \n",
      "1    I will try not to repeat some of what others h...   \n",
      "2    After reading all the glowing reviews, especia...   \n",
      "3    David Fincher's bleak, relentless, and ultimat...   \n",
      "4    The Silence of the Lambs (1991) is a classic p...   \n",
      "..                                                 ...   \n",
      "244  Desparately trying to be cool. Never believabl...   \n",
      "245  Despite his celebrated status as \"The Dean of ...   \n",
      "246  Before you catch fire this weekend, be sure to...   \n",
      "247  The great German word fremdsch√§men means \"sec...   \n",
      "248  Adequate and decent horror picture in which a ...   \n",
      "\n",
      "                                                  soup  \n",
      "0    cultureclash future spacewar samworthington zo...  \n",
      "1    spy basedonnovel secretagent danielcraig chris...  \n",
      "2    basedonnovel mars medallion taylorkitsch lynnc...  \n",
      "3    hostage magic horse zacharylevi mandymoore don...  \n",
      "4    witch magic broom danielradcliffe rupertgrint ...  \n",
      "..                                                 ...  \n",
      "244  basedonnovel post-apocalyptic dystopia johntra...  \n",
      "245  memory sidewalkcafe roomkey judidench danielda...  \n",
      "246  usa post postman kevincostner willpatton olivi...  \n",
      "247  newyork witch uprising vindiesel roseleslie el...  \n",
      "248  grandfathergrandsonrelationship wretch treasur...  \n",
      "\n",
      "[249 rows x 11 columns]\n"
     ]
    }
   ],
   "source": [
    "print(df2)"
   ]
  },
  {
   "cell_type": "code",
   "execution_count": 6,
   "metadata": {},
   "outputs": [
    {
     "name": "stdout",
     "output_type": "stream",
     "text": [
      "['The Dark Knight', 'Inception', 'Parasite', 'Se7en', 'The Silence of the Lambs', 'The Prestige', 'The Departed', 'The Usual Suspects', 'L√©on: The Professional', 'Psycho', 'Rear Window', 'Joker', 'The Lives of Others', 'Oldboy', 'Memento', 'Witness for the Prosecution', '1917', 'Reservoir Dogs', 'Come and See', 'Aliens', 'Das Boot', 'North by Northwest', 'Vertigo', 'Double Indemnity', 'M', 'Andhadhun', 'Drishyam', 'Gangs of Wasseypur', 'The Secret in Their Eyes', 'Shutter Island', 'L.A. Confidential', 'The Bandit', 'Heat', 'Die Hard', 'Sholay', 'Chinatown', 'The Great Escape', 'Yojimbo', 'The Seventh Seal', 'Dial M for Murder', 'The Invisible Guest', 'The Handmaiden', 'Haider', 'Logan', 'Room', 'Wild Tales', 'Gone Girl', 'Kahaani', 'Prisoners', 'Mad Max: Fury Road', 'A Wednesday', 'No Country for Old Men', 'V for Vendetta', 'Memories of Murder', 'Kill Bill: Vol. 1', 'Amores Perros', 'The Sixth Sense', 'Fargo', 'Jurassic Park', 'Blade Runner', 'Persona', 'What Ever Happened to Baby Jane?', 'On the Waterfront', 'Diabolique', 'The Wages of Fear', 'The Third Man', 'Rebecca', 'The Cabinet of Dr. Caligari', 'Baby', 'Special 26', 'The Raid 2', 'The Imitation Game', 'Blade Runner 2049', 'Elite Squad 2: The Enemy Within', 'Black Swan', 'Elite Squad', 'Blood Diamond', 'The Bourne Ultimatum', 'Sin City', 'Casino Royale', 'Kill Bill: Vol. 2', 'Infernal Affairs', 'Donnie Darko', 'Perfect Blue', '12 Monkeys', 'Ghost in the Shell', 'JFK', 'Akira', \"All the President's Men\", 'Jaws', 'Dog Day Afternoon', 'Anatomy of a Murder', 'Touch of Evil', 'The Killing', 'The Night of the Hunter', 'High Noon', 'Strangers on a Train', 'Rope', 'Notorious', 'Arsenic and Old Lace', 'Battleship Potemkin', 'Knives Out', 'X-Men: Days of Future Past', 'District 9', 'Master', 'In Bruges', 'Mystic River', 'The Bourne Identity', 'Nine Queens', 'Children of Men', 'Mulholland Dr.', 'True Romance', \"Carlito's Way\", 'The Untouchables', 'Dawn of the Dead', 'Night of the Living Dead', 'In the Heat of the Night', 'Charade', 'The Manchurian Candidate', 'The Big Sleep', 'Dunkirk', 'The Hateful Eight', 'Nightcrawler', 'I Saw the Devil', 'The Girl with the Dragon Tattoo', 'Captain Phillips', 'The Man from Nowhere', 'Mother', 'The Chaser', 'The White Ribbon', 'The Trial of the Chicago 7', 'Taken', 'Apocalypto', 'Hot Fuzz', 'Serenity', 'The Boondock Saints', 'The Insider', 'Gattaca', 'The Game', 'The Fugitive', 'Misery', 'Mississippi Burning', 'Predator', 'The King of Comedy', 'The Conversation', 'Shadow of a Doubt', 'Frankenstein', 'Wind River', 'Get Out', 'Mission: Impossible - Fallout', 'Kingsman: The Secret Service', 'Captain America: The Winter Soldier', 'Gravity', 'Skyfall', 'Argo', 'Paprika', 'Changeling', 'Ex Machina', 'The Last King of Scotland', 'Zodiac', 'Lucky Number Slevin', 'Black Book', 'Crash', 'The Bourne Supremacy', 'The Machinist', 'Man on Fire', 'Coraline', 'Road to Perdition', 'The Experiment', 'The Count of Monte Cristo', \"Ocean's Eleven\", 'Training Day', 'Run Lola Run', 'Open Your Eyes', 'Primal Fear', 'A Few Good Men', 'Barton Fink', \"Miller's Crossing\", 'The Name of the Rose', 'Blue Velvet', 'After Hours', 'Halloween', 'Serpico', 'Enter the Dragon', 'Deliverance', 'The French Connection', 'Dirty Harry', 'Repulsion', 'Goldfinger', 'The 39 Steps', 'Dark Waters', 'Searching', 'Train to Busan', 'Hotel Mumbai', 'Victoria', 'Baby Driver', 'Bridge of Spies', 'Sicario', 'Hell or High Water', 'The Body', 'The Raid: Redemption', 'End of Watch', 'The Impossible', 'Celda 211', 'The Skin I Live In', 'The Wave', 'Eastern Promises', 'United 93', 'Inside Man', 'Gone Baby Gone', 'Lady Vengeance', 'The Illusionist', \"Dead Man's Shoes\", 'Match Point', 'Saw', '21 Grams', 'Sympathy for Mr. Vengeance', 'The Butterfly Effect', '28 Days Later...', 'Battle Royale', 'The Others', 'Traffic', 'Minority Report', 'Funny Games', 'Dark City', 'Star Trek: First Contact', 'Sleepers', 'Lost Highway', 'Die Hard with a Vengeance', 'Falling Down', 'The Hunt for Red October', 'RoboCop', 'Lethal Weapon', 'Blood Simple', 'Mad Max 2', 'The Warriors', 'Escape from Alcatraz', 'Midnight Express', 'Blow-Up', 'Promising Young Woman', 'Upgrade', 'The Wailing', 'Nocturnal Animals', 'John Wick: Chapter 2', 'Who Am I', 'Predestination', 'The Hunger Games: Catching Fire', \"Jo Nesb√∏'s Headhunters\", 'The Conjuring']\n"
     ]
    }
   ],
   "source": [
    "count = CountVectorizer(stop_words='english')\n",
    "#count_matrix = count.fit_transform(df2['soup'])\n",
    "count_matrix = count.fit_transform(df2['soup'].values.astype('U')) \n",
    "\n",
    "#x = v.fit_transform(df2['soup'].values.astype('U')) \n",
    "\n",
    "cosine_sim2 = cosine_similarity(count_matrix, count_matrix)\n",
    "\n",
    "df2 = df2.reset_index()\n",
    "indices = pd.Series(df2.index, index=df2['title'])\n",
    "all_titles = [df2['title'][i] for i in range(len(df2['title']))]\n",
    "\n",
    "print(all_titles)"
   ]
  },
  {
   "cell_type": "code",
   "execution_count": 7,
   "metadata": {},
   "outputs": [],
   "source": [
    "def get_recommendations(title):\n",
    "    cosine_sim = cosine_similarity(count_matrix, count_matrix)\n",
    "    idx = indices[title]\n",
    "    sim_scores = list(enumerate(cosine_sim[idx]))\n",
    "    sim_scores = sorted(sim_scores, key=lambda x: x[1], reverse=True)\n",
    "    sim_scores = sim_scores[1:11]\n",
    "    movie_indices = [i[0] for i in sim_scores]\n",
    "    tit = df2['title'].iloc[movie_indices]\n",
    "    #dat = df2['release_date'].iloc[movie_indices]\n",
    "    #return_df = pd.DataFrame(columns=['Title','Year'])\n",
    "    return_df = pd.DataFrame(columns=['Title'])\n",
    "    return_df['Title'] = tit\n",
    "    #return_df['Year'] = dat\n",
    "    return return_df"
   ]
  },
  {
   "cell_type": "code",
   "execution_count": 8,
   "metadata": {},
   "outputs": [
    {
     "name": "stdout",
     "output_type": "stream",
     "text": [
      "                  Title\n",
      "104              Master\n",
      "237    Midnight Express\n",
      "5          The Prestige\n",
      "6          The Departed\n",
      "7    The Usual Suspects\n",
      "10          Rear Window\n",
      "20             Das Boot\n",
      "24                    M\n",
      "26             Drishyam\n",
      "48            Prisoners\n"
     ]
    }
   ],
   "source": [
    "    #for recommendation\n",
    "    m_name = 'The Dark Knight'\n",
    "    result_final = get_recommendations(m_name)\n",
    "    print (result_final)\n",
    "    names = []\n",
    "    for i in range(len(result_final)):\n",
    "        names.append(result_final.iloc[i][0])\n",
    "        "
   ]
  },
  {
   "cell_type": "code",
   "execution_count": 9,
   "metadata": {},
   "outputs": [
    {
     "name": "stdout",
     "output_type": "stream",
     "text": [
      "['Master', 'Midnight Express', 'The Prestige', 'The Departed', 'The Usual Suspects', 'Rear Window', 'Das Boot', 'M', 'Drishyam', 'Prisoners']\n"
     ]
    }
   ],
   "source": [
    "print (names)"
   ]
  },
  {
   "cell_type": "markdown",
   "metadata": {},
   "source": [
    "## Using Flask to render the HTML"
   ]
  },
  {
   "cell_type": "code",
   "execution_count": null,
   "metadata": {},
   "outputs": [
    {
     "name": "stdout",
     "output_type": "stream",
     "text": [
      " * Serving Flask app 'MyApp' (lazy loading)\n",
      " * Environment: production\n",
      "\u001b[31m   WARNING: This is a development server. Do not use it in a production deployment.\u001b[0m\n",
      "\u001b[2m   Use a production WSGI server instead.\u001b[0m\n",
      " * Debug mode: off\n"
     ]
    },
    {
     "name": "stderr",
     "output_type": "stream",
     "text": [
      " * Running on http://localhost:5001/ (Press CTRL+C to quit)\n",
      "127.0.0.1 - - [04/Aug/2021 19:42:56] \"GET / HTTP/1.1\" 200 -\n",
      "127.0.0.1 - - [04/Aug/2021 19:42:58] \"POST / HTTP/1.1\" 200 -\n",
      "127.0.0.1 - - [04/Aug/2021 19:43:08] \"GET / HTTP/1.1\" 200 -\n",
      "127.0.0.1 - - [04/Aug/2021 19:43:11] \"POST / HTTP/1.1\" 200 -\n",
      "127.0.0.1 - - [04/Aug/2021 19:44:23] \"GET / HTTP/1.1\" 200 -\n",
      "127.0.0.1 - - [04/Aug/2021 19:44:26] \"POST / HTTP/1.1\" 200 -\n",
      "127.0.0.1 - - [04/Aug/2021 19:44:37] \"GET / HTTP/1.1\" 200 -\n",
      "127.0.0.1 - - [04/Aug/2021 19:44:39] \"POST / HTTP/1.1\" 200 -\n"
     ]
    }
   ],
   "source": [
    "app = Flask(\"MyApp\")\n",
    "\n",
    "@app.route('/')\n",
    "def my_form():\n",
    "    return render_template(\"main.html\")\n",
    "\n",
    "@app.route('/', methods=['POST'])\n",
    "def my_form_post():\n",
    "    val = request.form['userinput']\n",
    "    query = {\"movie\": {\"$regex\": val, \"$options\" : \"i\"} }\n",
    "    docs = col.find(query).sort(\"movie\", 1)\n",
    "    title = []\n",
    "    review = []\n",
    "    sentiment = []\n",
    "    source = []\n",
    "    recom = []\n",
    "    negative_sentiment = []\n",
    "  \n",
    "    #for recommendation test\n",
    "    #m_name = 'The Dark Knight'\n",
    "    #print(val)\n",
    "    result_final = get_recommendations(val)\n",
    "    #print (result_final)\n",
    "    names = []\n",
    "    dates = []\n",
    "    for i in range(len(result_final)):\n",
    "        names.append(result_final.iloc[i][0])\n",
    "\n",
    "    for doc in docs:\n",
    "        title.append(doc['movie']) \n",
    "        review.append(doc['user_review'])\n",
    "        sentiment.append(doc['sentiment'])\n",
    "        source.append(doc['source'])\n",
    "        negative_sentiment.append(doc['negative sentiment'])\n",
    "        recom.append(names)\n",
    "        \n",
    "        #for recommendation\n",
    "        #result_final = get_recommendations(title)\n",
    "        #print (result_final)\n",
    "        #names_rec = []\n",
    "        #for i in range(len(result_final)):\n",
    "        #    names_rec.append(result_final.iloc[i][0])\n",
    "        #recom.append(names_rec)\n",
    "        \n",
    "    df = pd.DataFrame({\n",
    "        'Movie Title': title,\n",
    "        'Movie Review': review,\n",
    "        'Sentiment': sentiment\n",
    "        'Negative Sentiment': negative_sentiment,\n",
    "        'Movie Recommendation': recom,\n",
    "        'Source': source,\n",
    "    })\n",
    "        \n",
    "    return render_template(\"results.html\", keyword = val, results =list(df.values.tolist()))\n",
    "\n",
    "app.run(host='localhost', port=5001)"
   ]
  }
 ],
 "metadata": {
  "kernelspec": {
   "display_name": "Python 3",
   "language": "python",
   "name": "python3"
  },
  "language_info": {
   "codemirror_mode": {
    "name": "ipython",
    "version": 3
   },
   "file_extension": ".py",
   "mimetype": "text/x-python",
   "name": "python",
   "nbconvert_exporter": "python",
   "pygments_lexer": "ipython3",
   "version": "3.7.3"
  }
 },
 "nbformat": 4,
 "nbformat_minor": 2
}
