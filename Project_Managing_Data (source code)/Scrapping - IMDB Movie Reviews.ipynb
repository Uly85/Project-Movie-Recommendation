{
 "cells": [
  {
   "cell_type": "markdown",
   "metadata": {},
   "source": [
    "## Scrapping IMDB\n",
    "Reference: https://shravan-kuchkula.github.io/scrape_imdb_movie_reviews/#construct-a-dataframe"
   ]
  },
  {
   "cell_type": "code",
   "execution_count": 1,
   "metadata": {},
   "outputs": [],
   "source": [
    "import requests\n",
    "from bs4 import BeautifulSoup\n",
    "import re\n",
    "import pandas as pd\n",
    "import numpy as np\n",
    "import itertools\n",
    "from imdbUtils import *\n",
    "import builtins\n",
    "\n",
    "pd.options.display.max_colwidth=500"
   ]
  },
  {
   "cell_type": "code",
   "execution_count": 2,
   "metadata": {},
   "outputs": [],
   "source": [
    "# API call to select:\n",
    "## feature films\n",
    "## which are rated atleast 4.0\n",
    "## having atleast 50,000 votes\n",
    "## in the Thriller genre\n",
    "## sorted by user rating\n",
    "## limit to 250 movies\n",
    "url = '''https://www.imdb.com/search/title/?title_type=feature&user_rating=4.0,10.0\n",
    "&num_votes=50000,&genres=thriller&view=simple&sort=user_rating,desc&count=250'''\n",
    "\n",
    "# get the soup object for main api url\n",
    "movies_soup = getSoup(url)"
   ]
  },
  {
   "cell_type": "code",
   "execution_count": 4,
   "metadata": {},
   "outputs": [],
   "source": [
    "# find all a-tags with class:None\n",
    "movie_tags = movies_soup.find_all('a', attrs={'class': None})\n",
    "\n",
    "# filter the a-tags to get just the titles\n",
    "movie_tags = [tag.attrs['href'] for tag in movie_tags \n",
    "              if tag.attrs['href'].startswith('/title') & tag.attrs['href'].endswith('/')]"
   ]
  },
  {
   "cell_type": "code",
   "execution_count": 5,
   "metadata": {},
   "outputs": [
    {
     "name": "stdout",
     "output_type": "stream",
     "text": [
      "There are a total of 500 movie titles\n",
      "Displaying 10 titles\n"
     ]
    },
    {
     "data": {
      "text/plain": [
       "['/title/tt0468569/',\n",
       " '/title/tt0468569/',\n",
       " '/title/tt1375666/',\n",
       " '/title/tt1375666/',\n",
       " '/title/tt6751668/',\n",
       " '/title/tt6751668/',\n",
       " '/title/tt0114369/',\n",
       " '/title/tt0114369/',\n",
       " '/title/tt0102926/',\n",
       " '/title/tt0102926/']"
      ]
     },
     "execution_count": 5,
     "metadata": {},
     "output_type": "execute_result"
    }
   ],
   "source": [
    "print(\"There are a total of \" + str(len(movie_tags)) + \" movie titles\")\n",
    "print(\"Displaying 10 titles\")\n",
    "movie_tags[:10]"
   ]
  },
  {
   "cell_type": "code",
   "execution_count": 6,
   "metadata": {},
   "outputs": [
    {
     "name": "stdout",
     "output_type": "stream",
     "text": [
      "There are a total of 250 movie titles\n",
      "Displaying 10 titles\n"
     ]
    },
    {
     "data": {
      "text/plain": [
       "['/title/tt0468569/',\n",
       " '/title/tt1375666/',\n",
       " '/title/tt6751668/',\n",
       " '/title/tt0114369/',\n",
       " '/title/tt0102926/',\n",
       " '/title/tt0482571/',\n",
       " '/title/tt0407887/',\n",
       " '/title/tt0114814/',\n",
       " '/title/tt0110413/',\n",
       " '/title/tt0054215/']"
      ]
     },
     "execution_count": 6,
     "metadata": {},
     "output_type": "execute_result"
    }
   ],
   "source": [
    "# remove duplicate links\n",
    "movie_tags = list(dict.fromkeys(movie_tags))\n",
    "\n",
    "print(\"There are a total of \" + str(len(movie_tags)) + \" movie titles\")\n",
    "print(\"Displaying 10 titles\")\n",
    "movie_tags[:10]"
   ]
  },
  {
   "cell_type": "code",
   "execution_count": 7,
   "metadata": {},
   "outputs": [
    {
     "name": "stdout",
     "output_type": "stream",
     "text": [
      "There are a total of 250 movie user reviews\n",
      "Displaying 10 user reviews links\n"
     ]
    },
    {
     "data": {
      "text/plain": [
       "['https://www.imdb.com/title/tt0468569/reviews',\n",
       " 'https://www.imdb.com/title/tt1375666/reviews',\n",
       " 'https://www.imdb.com/title/tt6751668/reviews',\n",
       " 'https://www.imdb.com/title/tt0114369/reviews',\n",
       " 'https://www.imdb.com/title/tt0102926/reviews',\n",
       " 'https://www.imdb.com/title/tt0482571/reviews',\n",
       " 'https://www.imdb.com/title/tt0407887/reviews',\n",
       " 'https://www.imdb.com/title/tt0114814/reviews',\n",
       " 'https://www.imdb.com/title/tt0110413/reviews',\n",
       " 'https://www.imdb.com/title/tt0054215/reviews']"
      ]
     },
     "execution_count": 7,
     "metadata": {},
     "output_type": "execute_result"
    }
   ],
   "source": [
    "# movie links\n",
    "base_url = \"https://www.imdb.com\"\n",
    "movie_links = [base_url + tag + 'reviews' for tag in movie_tags]\n",
    "print(\"There are a total of \" + str(len(movie_links)) + \" movie user reviews\")\n",
    "print(\"Displaying 10 user reviews links\")\n",
    "movie_links[:10]"
   ]
  },
  {
   "cell_type": "code",
   "execution_count": 8,
   "metadata": {},
   "outputs": [
    {
     "name": "stdout",
     "output_type": "stream",
     "text": [
      "500\n",
      "There are a total of 500 individual movie reviews\n",
      "Displaying 10 reviews\n"
     ]
    },
    {
     "data": {
      "text/plain": [
       "['https://www.imdb.com/review/rw6513945/',\n",
       " 'https://www.imdb.com/review/rw6457886/',\n",
       " 'https://www.imdb.com/review/rw2300362/',\n",
       " 'https://www.imdb.com/review/rw4692192/',\n",
       " 'https://www.imdb.com/review/rw5388270/',\n",
       " 'https://www.imdb.com/review/rw5195256/',\n",
       " 'https://www.imdb.com/review/rw1097795/',\n",
       " 'https://www.imdb.com/review/rw0370669/',\n",
       " 'https://www.imdb.com/review/rw3476006/',\n",
       " 'https://www.imdb.com/review/rw1198894/']"
      ]
     },
     "execution_count": 8,
     "metadata": {},
     "output_type": "execute_result"
    }
   ],
   "source": [
    "# get a list of soup objects\n",
    "movie_soups = [getSoup(link) for link in movie_links]\n",
    "\n",
    "# get all 500 movie review links\n",
    "movie_review_list = [getReviews(movie_soup) for movie_soup in movie_soups]\n",
    "\n",
    "movie_review_list = list(itertools.chain(*movie_review_list))\n",
    "print(len(movie_review_list))\n",
    "\n",
    "print(\"There are a total of \" + str(len(movie_review_list)) + \" individual movie reviews\")\n",
    "print(\"Displaying 10 reviews\")\n",
    "movie_review_list[:10]"
   ]
  },
  {
   "cell_type": "code",
   "execution_count": 8,
   "metadata": {},
   "outputs": [],
   "source": [
    "# get review text from the review link\n",
    "review_texts = [getReviewText(url) for url in movie_review_list]\n",
    "\n",
    "# get movie name from the review link\n",
    "movie_titles = [getMovieTitle(url) for url in movie_review_list]\n",
    "\n",
    "# construct a dataframe\n",
    "df = pd.DataFrame({'movie': movie_titles,\n",
    "             'user_review': review_texts})"
   ]
  },
  {
   "cell_type": "code",
   "execution_count": null,
   "metadata": {},
   "outputs": [],
   "source": [
    "#Build the Movie Recommender System\n",
    "#Using features to personalize the recommendation: cast, director, keywords, genres take the soup column (reference data from kaggle movie dataset) based on title\n"
   ]
  },
  {
   "cell_type": "code",
   "execution_count": 9,
   "metadata": {},
   "outputs": [
    {
     "data": {
      "text/html": [
       "<div>\n",
       "<style scoped>\n",
       "    .dataframe tbody tr th:only-of-type {\n",
       "        vertical-align: middle;\n",
       "    }\n",
       "\n",
       "    .dataframe tbody tr th {\n",
       "        vertical-align: top;\n",
       "    }\n",
       "\n",
       "    .dataframe thead th {\n",
       "        text-align: right;\n",
       "    }\n",
       "</style>\n",
       "<table border=\"1\" class=\"dataframe\">\n",
       "  <thead>\n",
       "    <tr style=\"text-align: right;\">\n",
       "      <th></th>\n",
       "      <th>movie</th>\n",
       "      <th>user_review</th>\n",
       "    </tr>\n",
       "  </thead>\n",
       "  <tbody>\n",
       "    <tr>\n",
       "      <th>0</th>\n",
       "      <td>The Dark Knight</td>\n",
       "      <td>If someone else acted as Joker, I would give the movie 7-8 stars. The majority of people ended up loving the villain more than the hero, and that rarely happends in movies.Rest in peace Heath Ledger.</td>\n",
       "    </tr>\n",
       "    <tr>\n",
       "      <th>1</th>\n",
       "      <td>The Dark Knight</td>\n",
       "      <td>Totally one of the greatest movie titles ever made. Everything was great, filming, acting, story. Nothing to complain about</td>\n",
       "    </tr>\n",
       "    <tr>\n",
       "      <th>2</th>\n",
       "      <td>Inception</td>\n",
       "      <td>I will try not to repeat some of what others have so brilliantly written in some reviews. I just add this in order to contradict the hype that has allowed this movie to be ranked so high in IMDb. The same has been happening with other movies, and that is a shame for IMDb, which is becoming unreliable.I want to stress the fact that the only complexity in this movie is trying to figure out how you can invest so much money in a script that continuously makes a fool of the average critic intelli...</td>\n",
       "    </tr>\n",
       "    <tr>\n",
       "      <th>3</th>\n",
       "      <td>Inception</td>\n",
       "      <td>My 3rd time watching this movie! Yet, it still stunned my mind, kept me enjoyed its every moment and left me with many thoughts afterward.For someone like me, who've rarely slept without dream, it's so exciting watching how Christopher Nolan had illustrated every single characteristic of dream on the big screen. As it's been done so sophisticatedly, I do believe the rumour that Nolan had spent 10 years to finish the script of Inception. In my opinion, it's been so far the greatest achievemen...</td>\n",
       "    </tr>\n",
       "    <tr>\n",
       "      <th>4</th>\n",
       "      <td>Parasite</td>\n",
       "      <td>After reading all the glowing reviews, especially about how this film is one of the best of the decade I had to see it for myself- the plot it self wasn't anything ground breaking, and while the technical aspect of the film were flawless and i enjoyed it for the first hour, the ending was a total let down (lots of plot holes that I won't get into here) I agree with some other reviewers, the Park family weren't your typical rich snobs, the father worked for his money and came home home and wa...</td>\n",
       "    </tr>\n",
       "  </tbody>\n",
       "</table>\n",
       "</div>"
      ],
      "text/plain": [
       "             movie  \\\n",
       "0  The Dark Knight   \n",
       "1  The Dark Knight   \n",
       "2        Inception   \n",
       "3        Inception   \n",
       "4         Parasite   \n",
       "\n",
       "                                                                                                                                                                                                                                                                                                                                                                                                                                                                                                           user_review  \n",
       "0                                                                                                                                                                                                                                                                                                              If someone else acted as Joker, I would give the movie 7-8 stars. The majority of people ended up loving the villain more than the hero, and that rarely happends in movies.Rest in peace Heath Ledger.  \n",
       "1                                                                                                                                                                                                                                                                                                                                                                                          Totally one of the greatest movie titles ever made. Everything was great, filming, acting, story. Nothing to complain about  \n",
       "2  I will try not to repeat some of what others have so brilliantly written in some reviews. I just add this in order to contradict the hype that has allowed this movie to be ranked so high in IMDb. The same has been happening with other movies, and that is a shame for IMDb, which is becoming unreliable.I want to stress the fact that the only complexity in this movie is trying to figure out how you can invest so much money in a script that continuously makes a fool of the average critic intelli...  \n",
       "3  My 3rd time watching this movie! Yet, it still stunned my mind, kept me enjoyed its every moment and left me with many thoughts afterward.For someone like me, who've rarely slept without dream, it's so exciting watching how Christopher Nolan had illustrated every single characteristic of dream on the big screen. As it's been done so sophisticatedly, I do believe the rumour that Nolan had spent 10 years to finish the script of Inception. In my opinion, it's been so far the greatest achievemen...  \n",
       "4  After reading all the glowing reviews, especially about how this film is one of the best of the decade I had to see it for myself- the plot it self wasn't anything ground breaking, and while the technical aspect of the film were flawless and i enjoyed it for the first hour, the ending was a total let down (lots of plot holes that I won't get into here) I agree with some other reviewers, the Park family weren't your typical rich snobs, the father worked for his money and came home home and wa...  "
      ]
     },
     "execution_count": 9,
     "metadata": {},
     "output_type": "execute_result"
    }
   ],
   "source": [
    "df.head()"
   ]
  },
  {
   "cell_type": "code",
   "execution_count": 12,
   "metadata": {},
   "outputs": [],
   "source": [
    "# save the dataframe to a csv file.\n",
    "df.to_csv('movieReviews_IMDB.csv', index=False)"
   ]
  },
  {
   "cell_type": "markdown",
   "metadata": {},
   "source": [
    "## Add Sentiment Score"
   ]
  },
  {
   "cell_type": "code",
   "execution_count": 13,
   "metadata": {},
   "outputs": [],
   "source": [
    "#Create sentiment scores"
   ]
  },
  {
   "cell_type": "code",
   "execution_count": null,
   "metadata": {},
   "outputs": [],
   "source": [
    "#pip install transformers"
   ]
  },
  {
   "cell_type": "code",
   "execution_count": null,
   "metadata": {},
   "outputs": [],
   "source": [
    "#pip install scipy.special"
   ]
  },
  {
   "cell_type": "code",
   "execution_count": null,
   "metadata": {},
   "outputs": [],
   "source": [
    "#pip install pandas"
   ]
  },
  {
   "cell_type": "code",
   "execution_count": null,
   "metadata": {},
   "outputs": [],
   "source": [
    "#pip install scipy"
   ]
  },
  {
   "cell_type": "code",
   "execution_count": null,
   "metadata": {},
   "outputs": [],
   "source": [
    "#pip install torch"
   ]
  },
  {
   "cell_type": "code",
   "execution_count": null,
   "metadata": {},
   "outputs": [],
   "source": [
    "#pip install ipywidgets"
   ]
  },
  {
   "cell_type": "code",
   "execution_count": 14,
   "metadata": {},
   "outputs": [],
   "source": [
    "from transformers import AutoModelForSequenceClassification\n",
    "from transformers import TFAutoModelForSequenceClassification\n",
    "from transformers import AutoTokenizer\n",
    "import numpy as np\n",
    "from scipy.special import softmax\n",
    "import csv\n",
    "import urllib.request\n",
    "import torch\n",
    "import pandas as pd"
   ]
  },
  {
   "cell_type": "code",
   "execution_count": 15,
   "metadata": {},
   "outputs": [
    {
     "name": "stdout",
     "output_type": "stream",
     "text": [
      "hello\n"
     ]
    }
   ],
   "source": [
    "# Preprocess text (username and link placeholders)\n",
    "def preprocess(text):\n",
    "    new_text = []\n",
    "\n",
    "    for t in text.split(\" \"):\n",
    "        t = '@user' if t.startswith('@') and len(t) > 1 else t\n",
    "        t = 'http' if t.startswith('http') else t\n",
    "        new_text.append(t)\n",
    "    return \" \".join(new_text)\n",
    "\n",
    "\n",
    "print (\"hello\")\n",
    "\n",
    "import sys"
   ]
  },
  {
   "cell_type": "code",
   "execution_count": 16,
   "metadata": {},
   "outputs": [
    {
     "data": {
      "application/vnd.jupyter.widget-view+json": {
       "model_id": "60499c69bf384620a8511ac585508323",
       "version_major": 2,
       "version_minor": 0
      },
      "text/plain": [
       "Downloading:   0%|          | 0.00/747 [00:00<?, ?B/s]"
      ]
     },
     "metadata": {},
     "output_type": "display_data"
    },
    {
     "data": {
      "application/vnd.jupyter.widget-view+json": {
       "model_id": "6592932c46574f58bcfb2899056f9372",
       "version_major": 2,
       "version_minor": 0
      },
      "text/plain": [
       "Downloading:   0%|          | 0.00/899k [00:00<?, ?B/s]"
      ]
     },
     "metadata": {},
     "output_type": "display_data"
    },
    {
     "data": {
      "application/vnd.jupyter.widget-view+json": {
       "model_id": "3adf8278780649fcb798b055e8940510",
       "version_major": 2,
       "version_minor": 0
      },
      "text/plain": [
       "Downloading:   0%|          | 0.00/456k [00:00<?, ?B/s]"
      ]
     },
     "metadata": {},
     "output_type": "display_data"
    },
    {
     "data": {
      "application/vnd.jupyter.widget-view+json": {
       "model_id": "515b4de54b7a49108e97b2703285032c",
       "version_major": 2,
       "version_minor": 0
      },
      "text/plain": [
       "Downloading:   0%|          | 0.00/150 [00:00<?, ?B/s]"
      ]
     },
     "metadata": {},
     "output_type": "display_data"
    }
   ],
   "source": [
    "# Tasks:\n",
    "# emoji, emotion, hate, irony, offensive, sentiment\n",
    "# stance/abortion, stance/atheism, stance/climate, stance/feminist, stance/hillary\n",
    "task='sentiment'\n",
    "MODEL = f\"cardiffnlp/twitter-roberta-base-{task}\"\n",
    "\n",
    "tokenizer = AutoTokenizer.from_pretrained(MODEL)"
   ]
  },
  {
   "cell_type": "code",
   "execution_count": 17,
   "metadata": {},
   "outputs": [
    {
     "data": {
      "application/vnd.jupyter.widget-view+json": {
       "model_id": "3dc199bfb1ae47008617a98a9d5d0b14",
       "version_major": 2,
       "version_minor": 0
      },
      "text/plain": [
       "Downloading:   0%|          | 0.00/499M [00:00<?, ?B/s]"
      ]
     },
     "metadata": {},
     "output_type": "display_data"
    }
   ],
   "source": [
    "# download label mapping\n",
    "labels=[]\n",
    "mapping_link = f\"https://raw.githubusercontent.com/cardiffnlp/tweeteval/main/datasets/{task}/mapping.txt\"\n",
    "with urllib.request.urlopen(mapping_link) as f:\n",
    "    html = f.read().decode('utf-8').split(\"\\n\")\n",
    "    csvreader = csv.reader(html, delimiter='\\t')\n",
    "labels = [row[1] for row in csvreader if len(row) > 1]\n",
    "\n",
    "# PT\n",
    "model = AutoModelForSequenceClassification.from_pretrained(MODEL)\n",
    "model.save_pretrained(MODEL)\n",
    "\n",
    "text = \"Good night 😊\"\n",
    "text = preprocess(text)\n",
    "encoded_input = tokenizer(text, return_tensors='pt')\n",
    "output = model(**encoded_input)\n",
    "scores = output[0][0].detach().numpy()\n",
    "scores = softmax(scores)\n",
    "\n"
   ]
  },
  {
   "cell_type": "code",
   "execution_count": 18,
   "metadata": {},
   "outputs": [
    {
     "name": "stdout",
     "output_type": "stream",
     "text": [
      "1) positive 0.8466\n",
      "2) neutral 0.1458\n",
      "3) negative 0.0076\n",
      "[0.13826811 0.44011867 0.42161328]\n"
     ]
    }
   ],
   "source": [
    "# # TF\n",
    "# model = TFAutoModelForSequenceClassification.from_pretrained(MODEL)\n",
    "# model.save_pretrained(MODEL)\n",
    "\n",
    "# text = \"Good night 😊\"\n",
    "# encoded_input = tokenizer(text, return_tensors='tf')\n",
    "# output = model(encoded_input)\n",
    "# scores = output[0][0].numpy()\n",
    "# scores = softmax(scores)\n",
    "\n",
    "ranking = np.argsort(scores)\n",
    "ranking = ranking[::-1]\n",
    "for i in range(scores.shape[0]):\n",
    "    l = labels[ranking[i]]\n",
    "    s = scores[ranking[i]]\n",
    "    print(f\"{i+1}) {l} {np.round(float(s), 4)}\")\n",
    "\n",
    "s1 = 'If someone else acted as Joker, I would give the movie 7-8 stars. The majority of people ended up loving the villain more than the hero, and that rarely happends in movies.Rest in peace Heath Ledger.'\n",
    "text = preprocess(s1)\n",
    "encoded_input = tokenizer(text, return_tensors='pt')\n",
    "output = model(**encoded_input)\n",
    "scores = output[0][0].detach().numpy()\n",
    "scores = softmax(scores)\n",
    "print (scores)\n",
    "\n"
   ]
  },
  {
   "cell_type": "code",
   "execution_count": 20,
   "metadata": {},
   "outputs": [
    {
     "name": "stdout",
     "output_type": "stream",
     "text": [
      "For movie   the negative sentiment score is  0.13826811\n",
      "For movie   the negative sentiment score is  0.0034930182\n",
      "For movie   the negative sentiment score is  0.8947402\n",
      "For movie   the negative sentiment score is  -1\n",
      "For movie   the negative sentiment score is  0.039387576\n",
      "For movie   the negative sentiment score is  -1\n",
      "For movie   the negative sentiment score is  0.38012147\n",
      "For movie   the negative sentiment score is  -1\n",
      "For movie   the negative sentiment score is  -1\n",
      "For movie   the negative sentiment score is  0.12143889\n",
      "For movie   the negative sentiment score is  0.13305163\n",
      "For movie   the negative sentiment score is  0.009651245\n",
      "For movie   the negative sentiment score is  -1\n",
      "For movie   the negative sentiment score is  0.0018627209\n",
      "For movie   the negative sentiment score is  0.057788994\n",
      "For movie   the negative sentiment score is  0.010476997\n",
      "For movie   the negative sentiment score is  0.03209362\n",
      "For movie   the negative sentiment score is  0.029866884\n",
      "For movie   the negative sentiment score is  0.020708777\n",
      "For movie   the negative sentiment score is  0.10909531\n",
      "For movie   the negative sentiment score is  -1\n",
      "For movie   the negative sentiment score is  0.04344991\n",
      "For movie   the negative sentiment score is  -1\n",
      "For movie   the negative sentiment score is  0.00802328\n",
      "For movie   the negative sentiment score is  0.0071818265\n",
      "For movie   the negative sentiment score is  -1\n",
      "For movie   the negative sentiment score is  0.00280326\n",
      "For movie   the negative sentiment score is  -1\n",
      "For movie   the negative sentiment score is  0.43747884\n",
      "For movie   the negative sentiment score is  0.15084542\n",
      "For movie   the negative sentiment score is  -1\n",
      "For movie   the negative sentiment score is  0.010829657\n",
      "For movie   the negative sentiment score is  0.6414713\n",
      "For movie   the negative sentiment score is  -1\n",
      "For movie   the negative sentiment score is  -1\n",
      "For movie   the negative sentiment score is  0.63659436\n",
      "For movie   the negative sentiment score is  -1\n",
      "For movie   the negative sentiment score is  -1\n",
      "For movie   the negative sentiment score is  0.0033872868\n",
      "For movie   the negative sentiment score is  -1\n",
      "For movie   the negative sentiment score is  0.32610303\n",
      "For movie   the negative sentiment score is  0.08643733\n",
      "For movie   the negative sentiment score is  0.004737791\n",
      "For movie   the negative sentiment score is  -1\n",
      "For movie   the negative sentiment score is  0.09426739\n",
      "For movie   the negative sentiment score is  0.12679093\n",
      "For movie   the negative sentiment score is  -1\n",
      "For movie   the negative sentiment score is  -1\n",
      "For movie   the negative sentiment score is  -1\n",
      "For movie   the negative sentiment score is  -1\n",
      "For movie   the negative sentiment score is  0.63629776\n",
      "For movie   the negative sentiment score is  -1\n",
      "For movie   the negative sentiment score is  0.9266874\n",
      "For movie   the negative sentiment score is  0.34294248\n",
      "For movie   the negative sentiment score is  -1\n",
      "For movie   the negative sentiment score is  0.002566858\n",
      "For movie   the negative sentiment score is  0.039922066\n",
      "For movie   the negative sentiment score is  0.018113298\n",
      "For movie   the negative sentiment score is  0.576326\n",
      "For movie   the negative sentiment score is  0.0393006\n",
      "For movie   the negative sentiment score is  -1\n",
      "For movie   the negative sentiment score is  0.009288976\n",
      "For movie   the negative sentiment score is  0.33972773\n",
      "For movie   the negative sentiment score is  -1\n",
      "For movie   the negative sentiment score is  -1\n",
      "For movie   the negative sentiment score is  -1\n",
      "For movie   the negative sentiment score is  0.03879107\n",
      "For movie   the negative sentiment score is  -1\n",
      "For movie   the negative sentiment score is  0.027258554\n",
      "For movie   the negative sentiment score is  0.004895236\n",
      "For movie   the negative sentiment score is  -1\n",
      "For movie   the negative sentiment score is  0.03579186\n",
      "For movie   the negative sentiment score is  0.009478587\n",
      "For movie   the negative sentiment score is  -1\n",
      "For movie   the negative sentiment score is  -1\n",
      "For movie   the negative sentiment score is  0.034149136\n",
      "For movie   the negative sentiment score is  -1\n",
      "For movie   the negative sentiment score is  0.07900102\n",
      "For movie   the negative sentiment score is  0.14998649\n",
      "For movie   the negative sentiment score is  0.002736109\n",
      "For movie   the negative sentiment score is  -1\n",
      "For movie   the negative sentiment score is  0.4533394\n",
      "For movie   the negative sentiment score is  0.007901264\n",
      "For movie   the negative sentiment score is  -1\n",
      "For movie   the negative sentiment score is  -1\n",
      "For movie   the negative sentiment score is  -1\n",
      "For movie   the negative sentiment score is  0.70328724\n",
      "For movie   the negative sentiment score is  -1\n",
      "For movie   the negative sentiment score is  0.40423918\n",
      "For movie   the negative sentiment score is  -1\n",
      "For movie   the negative sentiment score is  0.09702517\n",
      "For movie   the negative sentiment score is  0.038638644\n",
      "For movie   the negative sentiment score is  -1\n",
      "For movie   the negative sentiment score is  -1\n",
      "For movie   the negative sentiment score is  -1\n",
      "For movie   the negative sentiment score is  -1\n",
      "For movie   the negative sentiment score is  -1\n",
      "For movie   the negative sentiment score is  0.10372183\n",
      "For movie   the negative sentiment score is  0.76419693\n",
      "For movie   the negative sentiment score is  0.013457073\n",
      "For movie   the negative sentiment score is  0.6977245\n",
      "For movie   the negative sentiment score is  0.045526788\n",
      "For movie   the negative sentiment score is  0.25521967\n",
      "For movie   the negative sentiment score is  0.5678939\n",
      "For movie   the negative sentiment score is  0.020807778\n",
      "For movie   the negative sentiment score is  0.0052283914\n",
      "For movie   the negative sentiment score is  0.22139858\n",
      "For movie   the negative sentiment score is  0.09204064\n",
      "For movie   the negative sentiment score is  0.020087622\n",
      "For movie   the negative sentiment score is  0.053938847\n",
      "For movie   the negative sentiment score is  -1\n",
      "For movie   the negative sentiment score is  0.07232246\n",
      "For movie   the negative sentiment score is  0.086864896\n",
      "For movie   the negative sentiment score is  -1\n",
      "For movie   the negative sentiment score is  0.30594963\n",
      "For movie   the negative sentiment score is  -1\n",
      "For movie   the negative sentiment score is  -1\n",
      "For movie   the negative sentiment score is  0.0016244167\n",
      "For movie   the negative sentiment score is  0.012593449\n",
      "For movie   the negative sentiment score is  0.028336646\n",
      "For movie   the negative sentiment score is  0.3165953\n",
      "For movie   the negative sentiment score is  -1\n",
      "For movie   the negative sentiment score is  0.17311053\n",
      "For movie   the negative sentiment score is  0.011018826\n",
      "For movie   the negative sentiment score is  0.010228077\n",
      "For movie   the negative sentiment score is  0.071882054\n",
      "For movie   the negative sentiment score is  0.34927368\n",
      "For movie   the negative sentiment score is  0.29916355\n",
      "For movie   the negative sentiment score is  0.64275867\n",
      "For movie   the negative sentiment score is  0.049080007\n",
      "For movie   the negative sentiment score is  0.26588076\n",
      "For movie   the negative sentiment score is  0.013360362\n",
      "For movie   the negative sentiment score is  0.0025730466\n",
      "For movie   the negative sentiment score is  0.0054905377\n",
      "For movie   the negative sentiment score is  0.09157225\n",
      "For movie   the negative sentiment score is  0.29361013\n",
      "For movie   the negative sentiment score is  0.052689057\n",
      "For movie   the negative sentiment score is  -1\n",
      "For movie   the negative sentiment score is  0.0027885083\n",
      "For movie   the negative sentiment score is  0.012383861\n",
      "For movie   the negative sentiment score is  0.011795256\n",
      "For movie   the negative sentiment score is  0.01821863\n",
      "For movie   the negative sentiment score is  0.051426202\n",
      "For movie   the negative sentiment score is  0.032917522\n",
      "For movie   the negative sentiment score is  0.918714\n",
      "For movie   the negative sentiment score is  -1\n",
      "For movie   the negative sentiment score is  0.08729486\n",
      "For movie   the negative sentiment score is  0.003340498\n",
      "For movie   the negative sentiment score is  0.8982968\n",
      "For movie   the negative sentiment score is  -1\n",
      "For movie   the negative sentiment score is  -1\n",
      "For movie   the negative sentiment score is  0.73266476\n",
      "For movie   the negative sentiment score is  0.6247287\n"
     ]
    },
    {
     "name": "stdout",
     "output_type": "stream",
     "text": [
      "For movie   the negative sentiment score is  0.012436267\n",
      "For movie   the negative sentiment score is  0.007930804\n",
      "For movie   the negative sentiment score is  0.0043936074\n",
      "For movie   the negative sentiment score is  -1\n",
      "For movie   the negative sentiment score is  -1\n",
      "For movie   the negative sentiment score is  -1\n",
      "For movie   the negative sentiment score is  0.002755492\n",
      "For movie   the negative sentiment score is  0.19341359\n",
      "For movie   the negative sentiment score is  0.0247336\n",
      "For movie   the negative sentiment score is  0.0062536392\n",
      "For movie   the negative sentiment score is  -1\n",
      "For movie   the negative sentiment score is  -1\n",
      "For movie   the negative sentiment score is  -1\n",
      "For movie   the negative sentiment score is  0.11001232\n",
      "For movie   the negative sentiment score is  0.41836548\n",
      "For movie   the negative sentiment score is  0.0020484694\n",
      "For movie   the negative sentiment score is  -1\n",
      "For movie   the negative sentiment score is  0.0106406305\n",
      "For movie   the negative sentiment score is  -1\n",
      "For movie   the negative sentiment score is  -1\n",
      "For movie   the negative sentiment score is  -1\n",
      "For movie   the negative sentiment score is  0.021279525\n",
      "For movie   the negative sentiment score is  0.6867616\n",
      "For movie   the negative sentiment score is  -1\n",
      "For movie   the negative sentiment score is  0.015976632\n",
      "For movie   the negative sentiment score is  0.0022825974\n",
      "For movie   the negative sentiment score is  0.0047559305\n",
      "For movie   the negative sentiment score is  0.18807569\n",
      "For movie   the negative sentiment score is  -1\n",
      "For movie   the negative sentiment score is  0.04315909\n",
      "For movie   the negative sentiment score is  0.08127839\n",
      "For movie   the negative sentiment score is  -1\n",
      "For movie   the negative sentiment score is  -1\n",
      "For movie   the negative sentiment score is  0.02491561\n",
      "For movie   the negative sentiment score is  0.011065772\n",
      "For movie   the negative sentiment score is  0.10688814\n",
      "For movie   the negative sentiment score is  0.52420986\n",
      "For movie   the negative sentiment score is  -1\n",
      "For movie   the negative sentiment score is  -1\n",
      "For movie   the negative sentiment score is  0.45354822\n",
      "For movie   the negative sentiment score is  -1\n",
      "For movie   the negative sentiment score is  0.017379563\n",
      "For movie   the negative sentiment score is  -1\n",
      "For movie   the negative sentiment score is  0.504922\n",
      "For movie   the negative sentiment score is  0.011394454\n",
      "For movie   the negative sentiment score is  0.07922168\n",
      "For movie   the negative sentiment score is  -1\n",
      "For movie   the negative sentiment score is  0.07873639\n",
      "For movie   the negative sentiment score is  -1\n",
      "For movie   the negative sentiment score is  0.5003796\n",
      "For movie   the negative sentiment score is  0.864711\n",
      "For movie   the negative sentiment score is  -1\n",
      "For movie   the negative sentiment score is  0.001185154\n",
      "For movie   the negative sentiment score is  0.0039569344\n",
      "For movie   the negative sentiment score is  0.02723963\n",
      "For movie   the negative sentiment score is  0.39559212\n",
      "For movie   the negative sentiment score is  0.2177511\n",
      "For movie   the negative sentiment score is  0.0250314\n",
      "For movie   the negative sentiment score is  0.019730497\n",
      "For movie   the negative sentiment score is  0.7567809\n",
      "For movie   the negative sentiment score is  0.6811097\n",
      "For movie   the negative sentiment score is  -1\n",
      "For movie   the negative sentiment score is  0.109490536\n",
      "For movie   the negative sentiment score is  0.0069943364\n",
      "For movie   the negative sentiment score is  0.012858953\n",
      "For movie   the negative sentiment score is  0.30973068\n",
      "For movie   the negative sentiment score is  0.007871826\n",
      "For movie   the negative sentiment score is  0.7044809\n",
      "For movie   the negative sentiment score is  -1\n",
      "For movie   the negative sentiment score is  -1\n",
      "For movie   the negative sentiment score is  0.05732924\n",
      "For movie   the negative sentiment score is  0.0058641382\n",
      "For movie   the negative sentiment score is  0.026495919\n",
      "For movie   the negative sentiment score is  -1\n",
      "For movie   the negative sentiment score is  0.012881526\n",
      "For movie   the negative sentiment score is  -1\n",
      "For movie   the negative sentiment score is  0.17418675\n",
      "For movie   the negative sentiment score is  0.047927562\n",
      "For movie   the negative sentiment score is  0.15847139\n",
      "For movie   the negative sentiment score is  -1\n",
      "For movie   the negative sentiment score is  0.004681299\n",
      "For movie   the negative sentiment score is  0.075953186\n",
      "For movie   the negative sentiment score is  -1\n",
      "For movie   the negative sentiment score is  0.12875256\n",
      "For movie   the negative sentiment score is  0.020639153\n",
      "For movie   the negative sentiment score is  -1\n",
      "For movie   the negative sentiment score is  -1\n",
      "For movie   the negative sentiment score is  0.8115207\n",
      "For movie   the negative sentiment score is  -1\n",
      "For movie   the negative sentiment score is  -1\n",
      "For movie   the negative sentiment score is  0.024678143\n",
      "For movie   the negative sentiment score is  0.4391701\n",
      "For movie   the negative sentiment score is  -1\n",
      "For movie   the negative sentiment score is  -1\n",
      "For movie   the negative sentiment score is  -1\n",
      "For movie   the negative sentiment score is  0.58251363\n",
      "For movie   the negative sentiment score is  0.0892173\n",
      "For movie   the negative sentiment score is  0.0075171175\n",
      "For movie   the negative sentiment score is  0.04931797\n",
      "For movie   the negative sentiment score is  0.022268405\n",
      "For movie   the negative sentiment score is  0.2520643\n",
      "For movie   the negative sentiment score is  0.02021503\n",
      "For movie   the negative sentiment score is  0.22021483\n",
      "For movie   the negative sentiment score is  0.9397103\n",
      "For movie   the negative sentiment score is  0.85272807\n",
      "For movie   the negative sentiment score is  -1\n",
      "For movie   the negative sentiment score is  -1\n",
      "For movie   the negative sentiment score is  0.0043851514\n",
      "For movie   the negative sentiment score is  -1\n",
      "For movie   the negative sentiment score is  0.59664375\n",
      "For movie   the negative sentiment score is  0.012710948\n",
      "For movie   the negative sentiment score is  0.004277634\n",
      "For movie   the negative sentiment score is  0.27213922\n",
      "For movie   the negative sentiment score is  -1\n",
      "For movie   the negative sentiment score is  0.0026290729\n",
      "For movie   the negative sentiment score is  -1\n",
      "For movie   the negative sentiment score is  -1\n",
      "For movie   the negative sentiment score is  0.9440185\n",
      "For movie   the negative sentiment score is  -1\n",
      "For movie   the negative sentiment score is  0.0040939176\n",
      "For movie   the negative sentiment score is  0.018353293\n",
      "For movie   the negative sentiment score is  0.15656368\n",
      "For movie   the negative sentiment score is  0.014319598\n",
      "For movie   the negative sentiment score is  0.023097038\n",
      "For movie   the negative sentiment score is  0.031591162\n",
      "For movie   the negative sentiment score is  0.001499756\n",
      "For movie   the negative sentiment score is  -1\n",
      "For movie   the negative sentiment score is  0.20981057\n",
      "For movie   the negative sentiment score is  -1\n",
      "For movie   the negative sentiment score is  0.019522628\n",
      "For movie   the negative sentiment score is  0.03264504\n",
      "For movie   the negative sentiment score is  0.037555214\n",
      "For movie   the negative sentiment score is  -1\n",
      "For movie   the negative sentiment score is  0.14271845\n",
      "For movie   the negative sentiment score is  -1\n",
      "For movie   the negative sentiment score is  0.0647821\n",
      "For movie   the negative sentiment score is  0.28570426\n",
      "For movie   the negative sentiment score is  0.041032445\n",
      "For movie   the negative sentiment score is  -1\n",
      "For movie   the negative sentiment score is  0.4420914\n",
      "For movie   the negative sentiment score is  -1\n",
      "For movie   the negative sentiment score is  -1\n",
      "For movie   the negative sentiment score is  0.051874675\n",
      "For movie   the negative sentiment score is  0.50264496\n",
      "For movie   the negative sentiment score is  0.08998144\n",
      "For movie   the negative sentiment score is  0.050562106\n",
      "For movie   the negative sentiment score is  -1\n",
      "For movie   the negative sentiment score is  -1\n",
      "For movie   the negative sentiment score is  0.011702064\n",
      "For movie   the negative sentiment score is  0.04329199\n",
      "For movie   the negative sentiment score is  -1\n",
      "For movie   the negative sentiment score is  -1\n",
      "For movie   the negative sentiment score is  0.0048425924\n",
      "For movie   the negative sentiment score is  0.38362867\n"
     ]
    },
    {
     "name": "stdout",
     "output_type": "stream",
     "text": [
      "For movie   the negative sentiment score is  0.5539435\n",
      "For movie   the negative sentiment score is  -1\n",
      "For movie   the negative sentiment score is  0.004178991\n",
      "For movie   the negative sentiment score is  -1\n",
      "For movie   the negative sentiment score is  0.91377944\n",
      "For movie   the negative sentiment score is  0.05752871\n",
      "For movie   the negative sentiment score is  0.039485414\n",
      "For movie   the negative sentiment score is  0.0020819132\n",
      "For movie   the negative sentiment score is  -1\n",
      "For movie   the negative sentiment score is  0.58735317\n",
      "For movie   the negative sentiment score is  0.0113778515\n",
      "For movie   the negative sentiment score is  -1\n",
      "For movie   the negative sentiment score is  0.2861449\n",
      "For movie   the negative sentiment score is  0.5174459\n",
      "For movie   the negative sentiment score is  0.03863177\n",
      "For movie   the negative sentiment score is  0.39041874\n",
      "For movie   the negative sentiment score is  -1\n",
      "For movie   the negative sentiment score is  0.12997602\n",
      "For movie   the negative sentiment score is  -1\n",
      "For movie   the negative sentiment score is  0.0062456056\n",
      "For movie   the negative sentiment score is  -1\n",
      "For movie   the negative sentiment score is  0.97796106\n",
      "For movie   the negative sentiment score is  0.0026182912\n",
      "For movie   the negative sentiment score is  0.099902175\n",
      "For movie   the negative sentiment score is  0.10660664\n",
      "For movie   the negative sentiment score is  0.46422026\n",
      "For movie   the negative sentiment score is  0.010717169\n",
      "For movie   the negative sentiment score is  -1\n",
      "For movie   the negative sentiment score is  0.016969692\n",
      "For movie   the negative sentiment score is  0.013231092\n",
      "For movie   the negative sentiment score is  0.005356607\n",
      "For movie   the negative sentiment score is  0.48756173\n",
      "For movie   the negative sentiment score is  0.024994027\n",
      "For movie   the negative sentiment score is  0.23739901\n",
      "For movie   the negative sentiment score is  0.09651116\n",
      "For movie   the negative sentiment score is  0.0064359945\n",
      "For movie   the negative sentiment score is  0.09233303\n",
      "For movie   the negative sentiment score is  0.19443487\n",
      "For movie   the negative sentiment score is  0.044374283\n",
      "For movie   the negative sentiment score is  0.10575347\n",
      "For movie   the negative sentiment score is  -1\n",
      "For movie   the negative sentiment score is  -1\n",
      "For movie   the negative sentiment score is  0.019950127\n",
      "For movie   the negative sentiment score is  0.0046588304\n",
      "For movie   the negative sentiment score is  0.049020097\n",
      "For movie   the negative sentiment score is  0.0033308621\n",
      "For movie   the negative sentiment score is  -1\n",
      "For movie   the negative sentiment score is  0.26593173\n",
      "For movie   the negative sentiment score is  -1\n",
      "For movie   the negative sentiment score is  -1\n",
      "For movie   the negative sentiment score is  0.17886926\n",
      "For movie   the negative sentiment score is  0.17244162\n",
      "For movie   the negative sentiment score is  0.06105897\n",
      "For movie   the negative sentiment score is  0.2390883\n",
      "For movie   the negative sentiment score is  -1\n",
      "For movie   the negative sentiment score is  0.0033078925\n",
      "For movie   the negative sentiment score is  0.012064649\n",
      "For movie   the negative sentiment score is  -1\n",
      "For movie   the negative sentiment score is  -1\n",
      "For movie   the negative sentiment score is  0.035025075\n",
      "For movie   the negative sentiment score is  0.14365917\n",
      "For movie   the negative sentiment score is  0.10864339\n",
      "For movie   the negative sentiment score is  -1\n",
      "For movie   the negative sentiment score is  -1\n",
      "For movie   the negative sentiment score is  0.16633376\n",
      "For movie   the negative sentiment score is  -1\n",
      "For movie   the negative sentiment score is  -1\n",
      "For movie   the negative sentiment score is  0.05685646\n",
      "For movie   the negative sentiment score is  -1\n",
      "For movie   the negative sentiment score is  0.30743143\n",
      "For movie   the negative sentiment score is  -1\n",
      "For movie   the negative sentiment score is  0.015225177\n",
      "For movie   the negative sentiment score is  -1\n",
      "For movie   the negative sentiment score is  -1\n",
      "For movie   the negative sentiment score is  -1\n",
      "For movie   the negative sentiment score is  0.49775353\n",
      "For movie   the negative sentiment score is  0.87179995\n",
      "For movie   the negative sentiment score is  0.5137277\n",
      "For movie   the negative sentiment score is  0.011888307\n",
      "For movie   the negative sentiment score is  -1\n",
      "For movie   the negative sentiment score is  0.17170516\n",
      "For movie   the negative sentiment score is  0.46235266\n",
      "For movie   the negative sentiment score is  0.1595473\n",
      "For movie   the negative sentiment score is  0.20481287\n",
      "For movie   the negative sentiment score is  -1\n",
      "For movie   the negative sentiment score is  0.60552865\n",
      "For movie   the negative sentiment score is  0.010045426\n",
      "For movie   the negative sentiment score is  0.07259525\n",
      "For movie   the negative sentiment score is  0.011347467\n",
      "For movie   the negative sentiment score is  0.60360813\n",
      "For movie   the negative sentiment score is  0.12261663\n",
      "For movie   the negative sentiment score is  -1\n",
      "For movie   the negative sentiment score is  0.01831178\n",
      "For movie   the negative sentiment score is  0.8381335\n",
      "For movie   the negative sentiment score is  0.005104593\n",
      "For movie   the negative sentiment score is  -1\n",
      "For movie   the negative sentiment score is  0.18535298\n",
      "For movie   the negative sentiment score is  0.005649283\n",
      "For movie   the negative sentiment score is  0.008681243\n",
      "For movie   the negative sentiment score is  0.48838255\n",
      "For movie   the negative sentiment score is  -1\n",
      "For movie   the negative sentiment score is  0.05922219\n",
      "For movie   the negative sentiment score is  0.0444592\n",
      "For movie   the negative sentiment score is  0.2016335\n",
      "For movie   the negative sentiment score is  0.30509084\n",
      "For movie   the negative sentiment score is  0.69548345\n",
      "For movie   the negative sentiment score is  0.02217455\n",
      "For movie   the negative sentiment score is  0.09617582\n",
      "For movie   the negative sentiment score is  0.0671026\n",
      "For movie   the negative sentiment score is  0.053747244\n",
      "For movie   the negative sentiment score is  0.06593203\n",
      "For movie   the negative sentiment score is  -1\n",
      "For movie   the negative sentiment score is  0.0029831599\n",
      "For movie   the negative sentiment score is  0.9559705\n",
      "For movie   the negative sentiment score is  0.1883504\n",
      "For movie   the negative sentiment score is  0.57235813\n",
      "For movie   the negative sentiment score is  0.05938856\n",
      "For movie   the negative sentiment score is  0.55709195\n",
      "For movie   the negative sentiment score is  0.18174979\n",
      "For movie   the negative sentiment score is  0.005083354\n",
      "For movie   the negative sentiment score is  0.37635738\n",
      "For movie   the negative sentiment score is  -1\n",
      "For movie   the negative sentiment score is  -1\n",
      "For movie   the negative sentiment score is  0.010697767\n",
      "For movie   the negative sentiment score is  0.05370346\n",
      "For movie   the negative sentiment score is  -1\n",
      "For movie   the negative sentiment score is  0.029280689\n",
      "For movie   the negative sentiment score is  0.0017346173\n",
      "For movie   the negative sentiment score is  -1\n",
      "For movie   the negative sentiment score is  0.8546898\n",
      "For movie   the negative sentiment score is  -1\n",
      "For movie   the negative sentiment score is  0.3322291\n",
      "For movie   the negative sentiment score is  0.030149737\n",
      "For movie   the negative sentiment score is  -1\n",
      "For movie   the negative sentiment score is  0.6176877\n",
      "For movie   the negative sentiment score is  0.92425543\n",
      "For movie   the negative sentiment score is  0.026555218\n",
      "For movie   the negative sentiment score is  0.0050507043\n",
      "For movie   the negative sentiment score is  -1\n",
      "For movie   the negative sentiment score is  -1\n",
      "For movie   the negative sentiment score is  0.0066859806\n",
      "For movie   the negative sentiment score is  -1\n",
      "For movie   the negative sentiment score is  0.0108553525\n",
      "For movie   the negative sentiment score is  0.16696575\n",
      "For movie   the negative sentiment score is  0.030511303\n",
      "For movie   the negative sentiment score is  -1\n",
      "For movie   the negative sentiment score is  0.0962969\n",
      "For movie   the negative sentiment score is  0.46156916\n",
      "For movie   the negative sentiment score is  -1\n",
      "For movie   the negative sentiment score is  -1\n",
      "For movie   the negative sentiment score is  -1\n",
      "For movie   the negative sentiment score is  0.0011330263\n"
     ]
    },
    {
     "name": "stdout",
     "output_type": "stream",
     "text": [
      "For movie   the negative sentiment score is  -1\n",
      "For movie   the negative sentiment score is  0.02892717\n",
      "For movie   the negative sentiment score is  0.18212414\n",
      "For movie   the negative sentiment score is  0.039084334\n",
      "For movie   the negative sentiment score is  0.0031450868\n",
      "For movie   the negative sentiment score is  0.011483132\n",
      "For movie   the negative sentiment score is  -1\n",
      "For movie   the negative sentiment score is  -1\n",
      "For movie   the negative sentiment score is  -1\n",
      "For movie   the negative sentiment score is  0.22177005\n",
      "For movie   the negative sentiment score is  -1\n",
      "For movie   the negative sentiment score is  -1\n",
      "For movie   the negative sentiment score is  -1\n",
      "For movie   the negative sentiment score is  0.046802055\n",
      "For movie   the negative sentiment score is  0.20206791\n",
      "For movie   the negative sentiment score is  0.17761172\n",
      "For movie   the negative sentiment score is  0.0041124774\n",
      "For movie   the negative sentiment score is  0.6050204\n",
      "For movie   the negative sentiment score is  0.8738384\n",
      "For movie   the negative sentiment score is  0.20915018\n",
      "For movie   the negative sentiment score is  -1\n",
      "For movie   the negative sentiment score is  0.9360963\n",
      "For movie   the negative sentiment score is  0.0070737735\n",
      "For movie   the negative sentiment score is  0.031343196\n",
      "For movie   the negative sentiment score is  0.0104726115\n",
      "For movie   the negative sentiment score is  0.23718855\n",
      "For movie   the negative sentiment score is  0.20376982\n",
      "For movie   the negative sentiment score is  0.051891584\n",
      "For movie   the negative sentiment score is  0.05902265\n",
      "For movie   the negative sentiment score is  0.93316084\n",
      "For movie   the negative sentiment score is  0.0027081256\n",
      "For movie   the negative sentiment score is  0.725557\n",
      "For movie   the negative sentiment score is  0.01548365\n",
      "For movie   the negative sentiment score is  0.03078641\n",
      "For movie   the negative sentiment score is  -1\n",
      "For movie   the negative sentiment score is  0.73292714\n",
      "For movie   the negative sentiment score is  0.006867019\n",
      "For movie   the negative sentiment score is  0.58808595\n",
      "For movie   the negative sentiment score is  0.06280505\n",
      "For movie   the negative sentiment score is  -1\n",
      "For movie   the negative sentiment score is  0.0771407\n"
     ]
    },
    {
     "ename": "FileNotFoundError",
     "evalue": "[Errno 2] No such file or directory: '/Users/Saori/Documents/Grad schol/Columbia/Classes/Summer 2021, Managing Data/Week12/Final project//negativeSentimentOfMovies.csv'",
     "output_type": "error",
     "traceback": [
      "\u001b[0;31m---------------------------------------------------------------------------\u001b[0m",
      "\u001b[0;31mFileNotFoundError\u001b[0m                         Traceback (most recent call last)",
      "\u001b[0;32m<ipython-input-20-6da4bd508c80>\u001b[0m in \u001b[0;36m<module>\u001b[0;34m\u001b[0m\n\u001b[1;32m     25\u001b[0m \u001b[0;34m\u001b[0m\u001b[0m\n\u001b[1;32m     26\u001b[0m \u001b[0mmoviesDF\u001b[0m\u001b[0;34m[\u001b[0m\u001b[0;34m'negative sentiment'\u001b[0m\u001b[0;34m]\u001b[0m \u001b[0;34m=\u001b[0m \u001b[0mnegScores\u001b[0m \u001b[0;31m#,2)   # moviesDF.append({'NegativeScores': }, ignore_index=True)  #\u001b[0m\u001b[0;34m\u001b[0m\u001b[0;34m\u001b[0m\u001b[0m\n\u001b[0;32m---> 27\u001b[0;31m \u001b[0mmoviesDF\u001b[0m\u001b[0;34m.\u001b[0m\u001b[0mreset_index\u001b[0m\u001b[0;34m(\u001b[0m\u001b[0;34m)\u001b[0m\u001b[0;34m.\u001b[0m\u001b[0mto_csv\u001b[0m\u001b[0;34m(\u001b[0m\u001b[0mDIR\u001b[0m\u001b[0;34m+\u001b[0m\u001b[0;34m'/negativeSentimentOfMovies.csv'\u001b[0m\u001b[0;34m,\u001b[0m \u001b[0mindex\u001b[0m\u001b[0;34m=\u001b[0m\u001b[0;32mFalse\u001b[0m\u001b[0;34m)\u001b[0m\u001b[0;34m\u001b[0m\u001b[0;34m\u001b[0m\u001b[0m\n\u001b[0m",
      "\u001b[0;32m/Library/Frameworks/Python.framework/Versions/3.8/lib/python3.8/site-packages/pandas/core/generic.py\u001b[0m in \u001b[0;36mto_csv\u001b[0;34m(self, path_or_buf, sep, na_rep, float_format, columns, header, index, index_label, mode, encoding, compression, quoting, quotechar, line_terminator, chunksize, date_format, doublequote, escapechar, decimal, errors, storage_options)\u001b[0m\n\u001b[1;32m   3385\u001b[0m         )\n\u001b[1;32m   3386\u001b[0m \u001b[0;34m\u001b[0m\u001b[0m\n\u001b[0;32m-> 3387\u001b[0;31m         return DataFrameRenderer(formatter).to_csv(\n\u001b[0m\u001b[1;32m   3388\u001b[0m             \u001b[0mpath_or_buf\u001b[0m\u001b[0;34m,\u001b[0m\u001b[0;34m\u001b[0m\u001b[0;34m\u001b[0m\u001b[0m\n\u001b[1;32m   3389\u001b[0m             \u001b[0mline_terminator\u001b[0m\u001b[0;34m=\u001b[0m\u001b[0mline_terminator\u001b[0m\u001b[0;34m,\u001b[0m\u001b[0;34m\u001b[0m\u001b[0;34m\u001b[0m\u001b[0m\n",
      "\u001b[0;32m/Library/Frameworks/Python.framework/Versions/3.8/lib/python3.8/site-packages/pandas/io/formats/format.py\u001b[0m in \u001b[0;36mto_csv\u001b[0;34m(self, path_or_buf, encoding, sep, columns, index_label, mode, compression, quoting, quotechar, line_terminator, chunksize, date_format, doublequote, escapechar, errors, storage_options)\u001b[0m\n\u001b[1;32m   1081\u001b[0m             \u001b[0mformatter\u001b[0m\u001b[0;34m=\u001b[0m\u001b[0mself\u001b[0m\u001b[0;34m.\u001b[0m\u001b[0mfmt\u001b[0m\u001b[0;34m,\u001b[0m\u001b[0;34m\u001b[0m\u001b[0;34m\u001b[0m\u001b[0m\n\u001b[1;32m   1082\u001b[0m         )\n\u001b[0;32m-> 1083\u001b[0;31m         \u001b[0mcsv_formatter\u001b[0m\u001b[0;34m.\u001b[0m\u001b[0msave\u001b[0m\u001b[0;34m(\u001b[0m\u001b[0;34m)\u001b[0m\u001b[0;34m\u001b[0m\u001b[0;34m\u001b[0m\u001b[0m\n\u001b[0m\u001b[1;32m   1084\u001b[0m \u001b[0;34m\u001b[0m\u001b[0m\n\u001b[1;32m   1085\u001b[0m         \u001b[0;32mif\u001b[0m \u001b[0mcreated_buffer\u001b[0m\u001b[0;34m:\u001b[0m\u001b[0;34m\u001b[0m\u001b[0;34m\u001b[0m\u001b[0m\n",
      "\u001b[0;32m/Library/Frameworks/Python.framework/Versions/3.8/lib/python3.8/site-packages/pandas/io/formats/csvs.py\u001b[0m in \u001b[0;36msave\u001b[0;34m(self)\u001b[0m\n\u001b[1;32m    226\u001b[0m         \"\"\"\n\u001b[1;32m    227\u001b[0m         \u001b[0;31m# apply compression and byte/text conversion\u001b[0m\u001b[0;34m\u001b[0m\u001b[0;34m\u001b[0m\u001b[0;34m\u001b[0m\u001b[0m\n\u001b[0;32m--> 228\u001b[0;31m         with get_handle(\n\u001b[0m\u001b[1;32m    229\u001b[0m             \u001b[0mself\u001b[0m\u001b[0;34m.\u001b[0m\u001b[0mfilepath_or_buffer\u001b[0m\u001b[0;34m,\u001b[0m\u001b[0;34m\u001b[0m\u001b[0;34m\u001b[0m\u001b[0m\n\u001b[1;32m    230\u001b[0m             \u001b[0mself\u001b[0m\u001b[0;34m.\u001b[0m\u001b[0mmode\u001b[0m\u001b[0;34m,\u001b[0m\u001b[0;34m\u001b[0m\u001b[0;34m\u001b[0m\u001b[0m\n",
      "\u001b[0;32m/Library/Frameworks/Python.framework/Versions/3.8/lib/python3.8/site-packages/pandas/io/common.py\u001b[0m in \u001b[0;36mget_handle\u001b[0;34m(path_or_buf, mode, encoding, compression, memory_map, is_text, errors, storage_options)\u001b[0m\n\u001b[1;32m    640\u001b[0m                 \u001b[0merrors\u001b[0m \u001b[0;34m=\u001b[0m \u001b[0;34m\"replace\"\u001b[0m\u001b[0;34m\u001b[0m\u001b[0;34m\u001b[0m\u001b[0m\n\u001b[1;32m    641\u001b[0m             \u001b[0;31m# Encoding\u001b[0m\u001b[0;34m\u001b[0m\u001b[0;34m\u001b[0m\u001b[0;34m\u001b[0m\u001b[0m\n\u001b[0;32m--> 642\u001b[0;31m             handle = open(\n\u001b[0m\u001b[1;32m    643\u001b[0m                 \u001b[0mhandle\u001b[0m\u001b[0;34m,\u001b[0m\u001b[0;34m\u001b[0m\u001b[0;34m\u001b[0m\u001b[0m\n\u001b[1;32m    644\u001b[0m                 \u001b[0mioargs\u001b[0m\u001b[0;34m.\u001b[0m\u001b[0mmode\u001b[0m\u001b[0;34m,\u001b[0m\u001b[0;34m\u001b[0m\u001b[0;34m\u001b[0m\u001b[0m\n",
      "\u001b[0;31mFileNotFoundError\u001b[0m: [Errno 2] No such file or directory: '/Users/Saori/Documents/Grad schol/Columbia/Classes/Summer 2021, Managing Data/Week12/Final project//negativeSentimentOfMovies.csv'"
     ]
    }
   ],
   "source": [
    "#text = preprocess(s2)\n",
    "#DIR = '/Users/Saori/Documents/Grad schol/Columbia/Classes/Summer 2021, Managing Data/Week12/Final project/'\n",
    "#FILENAME = DIR +'/movieReviews_IMDB.csv'\n",
    "moviesDF = pd.read_csv('movieReviews_IMDB.csv')\n",
    "moviesDF.head()\n",
    "#    moviesDF = moviesDF.set_index('movie')\n",
    "\n",
    "numMovies = len(moviesDF)\n",
    "'''\n",
    "givenMovie = xx\n",
    "rows = moviesDF.loc[moviesDF['movie'] == givenMovie] \n",
    "'''\n",
    "negScores = []\n",
    "for i in range(numMovies):\n",
    "    text = moviesDF.iloc[i]['user_review'] #rows['user_review'].iloc[i]   # \n",
    "    encoded_input = tokenizer(text, return_tensors='pt')\n",
    "    try:\n",
    "        output = model(**encoded_input)\n",
    "        scores = output[0][0].detach().numpy()\n",
    "        scores = softmax(scores)[0]\n",
    "    except:\n",
    "        scores = -1\n",
    "    print (\"For movie \", \" the negative sentiment score is \", scores)\n",
    "    negScores.append(scores)\n",
    "    \n",
    "moviesDF['negative sentiment'] = negScores #,2)   # moviesDF.append({'NegativeScores': }, ignore_index=True)  #\n",
    "moviesDF.reset_index().to_csv(DIR+'/negativeSentimentOfMovies.csv', index=False)"
   ]
  },
  {
   "cell_type": "code",
   "execution_count": null,
   "metadata": {},
   "outputs": [],
   "source": []
  }
 ],
 "metadata": {
  "kernelspec": {
   "display_name": "Python 3",
   "language": "python",
   "name": "python3"
  },
  "language_info": {
   "codemirror_mode": {
    "name": "ipython",
    "version": 3
   },
   "file_extension": ".py",
   "mimetype": "text/x-python",
   "name": "python",
   "nbconvert_exporter": "python",
   "pygments_lexer": "ipython3",
   "version": "3.7.3"
  }
 },
 "nbformat": 4,
 "nbformat_minor": 2
}
